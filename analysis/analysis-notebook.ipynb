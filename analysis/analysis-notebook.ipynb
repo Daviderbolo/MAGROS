{
 "metadata": {
  "language_info": {
   "codemirror_mode": {
    "name": "ipython",
    "version": 3
   },
   "file_extension": ".py",
   "mimetype": "text/x-python",
   "name": "python",
   "nbconvert_exporter": "python",
   "pygments_lexer": "ipython3",
   "version": "3.7.6-final"
  },
  "orig_nbformat": 2,
  "kernelspec": {
   "name": "python3",
   "display_name": "Python 3"
  }
 },
 "nbformat": 4,
 "nbformat_minor": 2,
 "cells": [
  {
   "cell_type": "markdown",
   "metadata": {},
   "source": [
    "# Analysis Jupyter Notebook\n",
    "### Controlla il path della cartella"
   ]
  },
  {
   "cell_type": "markdown",
   "metadata": {},
   "source": [
    "### Data Handling"
   ]
  },
  {
   "cell_type": "code",
   "execution_count": 8,
   "metadata": {
    "tags": []
   },
   "outputs": [
    {
     "output_type": "stream",
     "name": "stdout",
     "text": "[Errno 2] No such file or directory: 'analysis'\n/media/data/emanuele/B2m/MAGROS_FF/MAGROS/analysis\n         1      2     3    4    5    6    7    8    9    10   ...  535  536  \\\n0                                                             ...             \n0     1960.0   17.0   2.0  0.0  0.0  0.0  0.0  0.0  0.0  0.0  ...  0.0  0.0   \n1     1866.0   61.0   4.0  0.0  0.0  0.0  0.0  0.0  0.0  0.0  ...  0.0  0.0   \n2     1774.0   92.0  14.0  0.0  0.0  0.0  0.0  0.0  0.0  0.0  ...  0.0  0.0   \n3     1691.0  125.0  17.0  2.0  0.0  0.0  0.0  0.0  0.0  0.0  ...  0.0  0.0   \n4     1637.0  152.0  13.0  5.0  0.0  0.0  0.0  0.0  0.0  0.0  ...  0.0  0.0   \n...      ...    ...   ...  ...  ...  ...  ...  ...  ...  ...  ...  ...  ...   \n1192    14.0    0.0   0.0  0.0  0.0  0.0  0.0  0.0  0.0  0.0  ...  0.0  0.0   \n1193    14.0    0.0   0.0  0.0  0.0  0.0  0.0  0.0  0.0  0.0  ...  0.0  0.0   \n1194    14.0    0.0   0.0  0.0  0.0  0.0  0.0  0.0  0.0  0.0  ...  0.0  0.0   \n1195    14.0    0.0   0.0  0.0  0.0  0.0  0.0  0.0  0.0  0.0  ...  0.0  0.0   \n1196    13.0    0.0   0.0  0.0  0.0  0.0  0.0  0.0  0.0  0.0  ...  0.0  0.0   \n\n      537  538  539  540  541  542  543  544  \n0                                             \n0     0.0  0.0  0.0  0.0  0.0  0.0  0.0  0.0  \n1     0.0  0.0  0.0  0.0  0.0  0.0  0.0  0.0  \n2     0.0  0.0  0.0  0.0  0.0  0.0  0.0  0.0  \n3     0.0  0.0  0.0  0.0  0.0  0.0  0.0  0.0  \n4     0.0  0.0  0.0  0.0  0.0  0.0  0.0  0.0  \n...   ...  ...  ...  ...  ...  ...  ...  ...  \n1192  0.0  0.0  0.0  0.0  0.0  0.0  1.0  0.0  \n1193  0.0  0.0  0.0  0.0  0.0  0.0  1.0  0.0  \n1194  0.0  0.0  0.0  0.0  0.0  0.0  1.0  0.0  \n1195  0.0  0.0  0.0  0.0  0.0  0.0  1.0  0.0  \n1196  0.0  0.0  0.0  0.0  0.0  0.0  0.0  1.0  \n\n[1197 rows x 544 columns]\n"
    }
   ],
   "source": [
    "import pandas as pd\n",
    "import numpy as np\n",
    "from plotnine import *\n",
    "\n",
    "%matplotlib inline\n",
    "\n",
    "\n",
    "#import seaborn as sns\n",
    "#import matplotlib\n",
    "#import matplotlib.pyplot as plt\n",
    "\n",
    "%pwd\n",
    "#%cd /media/data/emanuele/TTR/smog-to-gromos/old/fix-concentration_gradient/make_fibrillone-2000-296K-1mM-bis/analysis\n",
    "\n",
    "%cd analysis\n",
    "\n",
    "# Data import\n",
    "\n",
    "matrix = pd.read_csv('histo-time.dat', sep = '\\\\s+', header = None, index_col=0)\n",
    "\n",
    "\n",
    "newarr = matrix.reshape(-1)\n",
    "\n",
    "print(newarr)\n",
    "\n",
    "# Data handling\n",
    "# Replace 0 with n.an\n",
    "\n",
    "#matrix[matrix == 0] = np.nan\n",
    "\n",
    "maxclust = list(range(1, len(matrix.columns)-400, 1))\n",
    "frames = list(range(0, len(matrix.index), 1))\n",
    "\n",
    "#print(maxclust)\n",
    "#temp = matrix[matrix.columns.intersection(maxclust)].copy()\n",
    "\n",
    "print(matrix)\n",
    "#print(maxclust) # seems ok\n",
    "#print(frames) # seems ok"
   ]
  },
  {
   "cell_type": "code",
   "execution_count": null,
   "metadata": {},
   "outputs": [],
   "source": [
    "ggplot(temp, aes(x = matrix, y = matrix))"
   ]
  },
  {
   "cell_type": "code",
   "execution_count": null,
   "metadata": {
    "tags": []
   },
   "outputs": [],
   "source": [
    "plt.hist2d(maxclust, frames, bins = (matrix))\n",
    "plt.show()"
   ]
  },
  {
   "cell_type": "code",
   "execution_count": null,
   "metadata": {},
   "outputs": [],
   "source": []
  }
 ]
}