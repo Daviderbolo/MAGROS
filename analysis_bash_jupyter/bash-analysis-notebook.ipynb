{
 "metadata": {
  "language_info": {
   "codemirror_mode": {
    "name": "ipython",
    "version": 3
   },
   "file_extension": ".py",
   "mimetype": "text/x-python",
   "name": "python",
   "nbconvert_exporter": "python",
   "pygments_lexer": "ipython3",
   "version": "3.8.3-final"
  },
  "orig_nbformat": 2,
  "kernelspec": {
   "name": "python38364bitbasecondab38f5920c6314cd79573139879057ebe",
   "display_name": "Python 3.8.3 64-bit ('base': conda)"
  }
 },
 "nbformat": 4,
 "nbformat_minor": 2,
 "cells": [
  {
   "cell_type": "markdown",
   "metadata": {},
   "source": [
    "# Analysis Jupyter Notebook\n",
    "### Controlla il path della cartella"
   ]
  },
  {
   "cell_type": "markdown",
   "metadata": {},
   "source": [
    "## Data Handling"
   ]
  },
  {
   "cell_type": "markdown",
   "metadata": {
    "tags": []
   },
   "source": [
    "### Command for clustsize\n",
    "\n",
    "clust_cmd = 'gmx_mpi clustsize -f prod_2000-1mM.xtc -dt 100000 -s prod_2000-1mM.tpr -mol -hct -nice 0 -cut 0.4'\n",
    "!{clust_cmd}"
   ]
  },
  {
   "cell_type": "code",
   "execution_count": 147,
   "metadata": {
    "tags": []
   },
   "outputs": [
    {
     "output_type": "stream",
     "name": "stdout",
     "text": "Not Fibril list \n ['clust 263', 'clust 302', 'clust 318', 'clust 319', 'clust 396', 'clust 657', 'clust 709', 'clust 741', 'clust 766', 'clust 823', 'clust 895', 'clust 997', 'clust 1133', 'clust 1190', 'clust 1225', 'clust 1235', 'clust 1245', 'clust 1266', 'clust 1297', 'clust 1299', 'clust 1308', 'clust 1456', 'clust 1492', 'clust 1600', 'clust 1657', 'clust 1669', 'clust 1768', 'clust 1887', 'clust 1915']\n"
    }
   ],
   "source": [
    "import gromacs\n",
    "from gromacs.fileformats import * #NDX, uniqueNDX\n",
    "from gromacs import cbook\n",
    "\n",
    "\n",
    "# Sistemare che forse diventa piu' breve\n",
    "\n",
    "\n",
    "#print(gromacs.release())\n",
    "\n",
    "### Import the index as uniqueNDX to perform some operations\n",
    "maxclust_ndx = uniqueNDX('maxclust.ndx')\n",
    "\n",
    "### Creation of a dictionary which includes the index names and the atomnumber\n",
    "maxclust_dict = maxclust_ndx.sizes\n",
    "\n",
    "### Extraction of all the clusters, remove the max_clust (duplicated) and make a list of them\n",
    "fibril_dict = {key:val for key, val in maxclust_dict.items() if val != 85}\n",
    "fibril_list = list(fibril_dict.keys())\n",
    "#fibril_list.remove('max_clust')\n",
    "\n",
    "### Extraction of all the single molecules not part of a fibril and make a list of that\n",
    "not_fibril_dict = {key:val for key, val in maxclust_dict.items() if val == 85}\n",
    "not_fibril_list = list(not_fibril_dict.keys())\n",
    "\n",
    "### Print the lists to paste below\n",
    "#print(fibril_list)\n",
    "print('Not Fibril list', '\\n', not_fibril_list)\n",
    "\n",
    "### controlla che siano in ordine i gruppi in max"
   ]
  },
  {
   "cell_type": "code",
   "execution_count": 148,
   "metadata": {
    "tags": []
   },
   "outputs": [
    {
     "output_type": "stream",
     "name": "stdout",
     "text": "\"0\" \"1\" \"2\" \"3\" \"4\" \"5\" \"6\" \"7\" \"8\" \"9\" \"10\" \"11\" \"12\" \"43\"\n\"A\" \"B\" \"C\" \"D\" \"E\" \"F\" \"G\" \"H\" \"I\" \"J\" \"K\" \"L\" \"M\" \"Z\"\n"
    }
   ],
   "source": [
    "import string\n",
    "\n",
    "### Creation of one indexe which includes all the atoms in a cluster\n",
    "#full_ndx['fibril'] = full_ndx.join('clust 1113', 'clust 791', 'clust 1199', 'clust 1665', 'clust 849', 'clust 846', 'clust 875', 'clust 1035', 'clust 1224', 'clust 1390', 'clust 1146', 'clust 321', 'clust 1194')\n",
    "\n",
    "### Creation of a second index which includes all the atoms not in a fibril\n",
    "maxclust_ndx['not_fibril'] = maxclust_ndx.join('clust 263', 'clust 302', 'clust 318', 'clust 319', 'clust 396', 'clust 657', 'clust 709', 'clust 741', 'clust 766', 'clust 823', 'clust 895', 'clust 997', 'clust 1133', 'clust 1190', 'clust 1225', 'clust 1235', 'clust 1245', 'clust 1266', 'clust 1297', 'clust 1299', 'clust 1308', 'clust 1456', 'clust 1492', 'clust 1600', 'clust 1657', 'clust 1669', 'clust 1768', 'clust 1887', 'clust 1915')\n",
    "\n",
    "\n",
    "### Write the new index which will be used to create a different set of pdbs and used to create a pdb with the correct atom number (pdb numerical limit to 6 digits)\n",
    "maxclust_ndx.write('pdb.ndx')\n",
    "\n",
    "\n",
    "### Print the values to print into the script\n",
    "array1 = range(0, (len(fibril_list)-1)) # Da 0 a 12, i gruppi di maxclust meno maxclust\n",
    "for a in array1:\n",
    "    print('\"', a , end = '\" ', sep = '')\n",
    "print('\"', (len(full_ndx)-1), '\"', sep = '')\n",
    "\n",
    "array2 = list(map(chr, range(97, (97+len(array1)))))\n",
    "for a in array2:\n",
    "    print('\"', a.upper() , end = '\" ', sep = '')\n",
    "print('\"Z\"')\n",
    "\n",
    "\n",
    "#fib = full_ndx['fibril']\n",
    "#not_fib = full_ndx['not_fibril']\n",
    "#print(len(full_ndx['fibril']))\n",
    "#print(len(full_ndx['not_fibril']))     # Questi sono ok, 170000 totali"
   ]
  },
  {
   "cell_type": "code",
   "execution_count": 149,
   "metadata": {
    "tags": [
     "outputPrepend"
    ]
   },
   "outputs": [
    {
     "output_type": "stream",
     "name": "stdout",
     "text": "ents\nGroup    11 (          clust) has  5525 elements\nGroup    12 (          clust) has  7480 elements\nGroup    13 (          clust) has    85 elements\nGroup    14 (          clust) has    85 elements\nGroup    15 (          clust) has    85 elements\nGroup    16 (          clust) has    85 elements\nGroup    17 (          clust) has    85 elements\nGroup    18 (          clust) has    85 elements\nGroup    19 (          clust) has    85 elements\nGroup    20 (          clust) has    85 elements\nGroup    21 (          clust) has    85 elements\nGroup    22 (          clust) has    85 elements\nGroup    23 (          clust) has    85 elements\nGroup    24 (          clust) has    85 elements\nGroup    25 (          clust) has    85 elements\nGroup    26 (          clust) has    85 elements\nGroup    27 (          clust) has    85 elements\nGroup    28 (          clust) has    85 elements\nGroup    29 (          clust) has    85 elements\nGroup    30 (          clust) has    85 elements\nGroup    31 (          clust) has    85 elements\nGroup    32 (          clust) has    85 elements\nGroup    33 (          clust) has    85 elements\nGroup    34 (          clust) has    85 elements\nGroup    35 (          clust) has    85 elements\nGroup    36 (          clust) has    85 elements\nGroup    37 (          clust) has    85 elements\nGroup    38 (          clust) has    85 elements\nGroup    39 (          clust) has    85 elements\nGroup    40 (          clust) has    85 elements\nGroup    41 (          clust) has    85 elements\nGroup    42 (      max_clust) has 37315 elements\nGroup    43 (     not_fibril) has  2465 elements\nSelect a group: Selected 11: 'clust'\n\nGROMACS reminds you: \"If There Is No Guitar In The House, You Know It's Owner Can Not Be Trusted\" (Gogol Bordello)\n\n                     :-) GROMACS - gmx editconf, 2020.3 (-:\n\n                            GROMACS is written by:\n     Emile Apol      Rossen Apostolov      Paul Bauer     Herman J.C. Berendsen\n    Par Bjelkmar      Christian Blau   Viacheslav Bolnykh     Kevin Boyd    \n Aldert van Buuren   Rudi van Drunen     Anton Feenstra       Alan Gray     \n  Gerrit Groenhof     Anca Hamuraru    Vincent Hindriksen  M. Eric Irrgang  \n  Aleksei Iupinov   Christoph Junghans     Joe Jordan     Dimitrios Karkoulis\n    Peter Kasson        Jiri Kraus      Carsten Kutzner      Per Larsson    \n  Justin A. Lemkul    Viveca Lindahl    Magnus Lundborg     Erik Marklund   \n    Pascal Merz     Pieter Meulenhoff    Teemu Murtola       Szilard Pall   \n    Sander Pronk      Roland Schulz      Michael Shirts    Alexey Shvetsov  \n   Alfons Sijbers     Peter Tieleman      Jon Vincent      Teemu Virolainen \n Christian Wennberg    Maarten Wolf      Artem Zhmurov   \n                           and the project leaders:\n        Mark Abraham, Berk Hess, Erik Lindahl, and David van der Spoel\n\nCopyright (c) 1991-2000, University of Groningen, The Netherlands.\nCopyright (c) 2001-2019, The GROMACS development team at\nUppsala University, Stockholm University and\nthe Royal Institute of Technology, Sweden.\ncheck out http://www.gromacs.org for more information.\n\nGROMACS is free software; you can redistribute it and/or modify it\nunder the terms of the GNU Lesser General Public License\nas published by the Free Software Foundation; either version 2.1\nof the License, or (at your option) any later version.\n\nGROMACS:      gmx editconf, version 2020.3\nExecutable:   /usr/local/gromacs/bin/gmx\nData prefix:  /usr/local/gromacs\nWorking dir:  /home/odinodeon/MAGROS/analysis_bash_jupyter\nCommand line:\n  gmx editconf -f prod_2000-1mM.tpr -n pdb.ndx -label M -o clust12.pdb\n\nNote that major changes are planned in future for editconf, to improve usability and utility.\nReading file prod_2000-1mM.tpr, VERSION 2019.5 (single precision)\nReading file prod_2000-1mM.tpr, VERSION 2019.5 (single precision)\nRead 170000 atoms\nVolume: 3.375e+06 nm^3, corresponds to roughly 1518750000 electrons\nVelocities found\n\nSelect a group for output:\nGroup     0 (          clust) has 29665 elements\nGroup     1 (          clust) has  9350 elements\nGroup     2 (          clust) has  7395 elements\nGroup     3 (          clust) has 37315 elements\nGroup     4 (          clust) has  9350 elements\nGroup     5 (          clust) has  7905 elements\nGroup     6 (          clust) has 11985 elements\nGroup     7 (          clust) has  5610 elements\nGroup     8 (          clust) has  9520 elements\nGroup     9 (          clust) has 12325 elements\nGroup    10 (          clust) has 14110 elements\nGroup    11 (          clust) has  5525 elements\nGroup    12 (          clust) has  7480 elements\nGroup    13 (          clust) has    85 elements\nGroup    14 (          clust) has    85 elements\nGroup    15 (          clust) has    85 elements\nGroup    16 (          clust) has    85 elements\nGroup    17 (          clust) has    85 elements\nGroup    18 (          clust) has    85 elements\nGroup    19 (          clust) has    85 elements\nGroup    20 (          clust) has    85 elements\nGroup    21 (          clust) has    85 elements\nGroup    22 (          clust) has    85 elements\nGroup    23 (          clust) has    85 elements\nGroup    24 (          clust) has    85 elements\nGroup    25 (          clust) has    85 elements\nGroup    26 (          clust) has    85 elements\nGroup    27 (          clust) has    85 elements\nGroup    28 (          clust) has    85 elements\nGroup    29 (          clust) has    85 elements\nGroup    30 (          clust) has    85 elements\nGroup    31 (          clust) has    85 elements\nGroup    32 (          clust) has    85 elements\nGroup    33 (          clust) has    85 elements\nGroup    34 (          clust) has    85 elements\nGroup    35 (          clust) has    85 elements\nGroup    36 (          clust) has    85 elements\nGroup    37 (          clust) has    85 elements\nGroup    38 (          clust) has    85 elements\nGroup    39 (          clust) has    85 elements\nGroup    40 (          clust) has    85 elements\nGroup    41 (          clust) has    85 elements\nGroup    42 (      max_clust) has 37315 elements\nGroup    43 (     not_fibril) has  2465 elements\nSelect a group: Selected 12: 'clust'\n\nGROMACS reminds you: \"I Solve Problems\" (Pulp Fiction)\n\n                     :-) GROMACS - gmx editconf, 2020.3 (-:\n\n                            GROMACS is written by:\n     Emile Apol      Rossen Apostolov      Paul Bauer     Herman J.C. Berendsen\n    Par Bjelkmar      Christian Blau   Viacheslav Bolnykh     Kevin Boyd    \n Aldert van Buuren   Rudi van Drunen     Anton Feenstra       Alan Gray     \n  Gerrit Groenhof     Anca Hamuraru    Vincent Hindriksen  M. Eric Irrgang  \n  Aleksei Iupinov   Christoph Junghans     Joe Jordan     Dimitrios Karkoulis\n    Peter Kasson        Jiri Kraus      Carsten Kutzner      Per Larsson    \n  Justin A. Lemkul    Viveca Lindahl    Magnus Lundborg     Erik Marklund   \n    Pascal Merz     Pieter Meulenhoff    Teemu Murtola       Szilard Pall   \n    Sander Pronk      Roland Schulz      Michael Shirts    Alexey Shvetsov  \n   Alfons Sijbers     Peter Tieleman      Jon Vincent      Teemu Virolainen \n Christian Wennberg    Maarten Wolf      Artem Zhmurov   \n                           and the project leaders:\n        Mark Abraham, Berk Hess, Erik Lindahl, and David van der Spoel\n\nCopyright (c) 1991-2000, University of Groningen, The Netherlands.\nCopyright (c) 2001-2019, The GROMACS development team at\nUppsala University, Stockholm University and\nthe Royal Institute of Technology, Sweden.\ncheck out http://www.gromacs.org for more information.\n\nGROMACS is free software; you can redistribute it and/or modify it\nunder the terms of the GNU Lesser General Public License\nas published by the Free Software Foundation; either version 2.1\nof the License, or (at your option) any later version.\n\nGROMACS:      gmx editconf, version 2020.3\nExecutable:   /usr/local/gromacs/bin/gmx\nData prefix:  /usr/local/gromacs\nWorking dir:  /home/odinodeon/MAGROS/analysis_bash_jupyter\nCommand line:\n  gmx editconf -f prod_2000-1mM.tpr -n pdb.ndx -label M -o clust12.esp\n\nNote that major changes are planned in future for editconf, to improve usability and utility.\nReading file prod_2000-1mM.tpr, VERSION 2019.5 (single precision)\nReading file prod_2000-1mM.tpr, VERSION 2019.5 (single precision)\nRead 170000 atoms\nVolume: 3.375e+06 nm^3, corresponds to roughly 1518750000 electrons\nVelocities found\n\nSelect a group for output:\nGroup     0 (          clust) has 29665 elements\nGroup     1 (          clust) has  9350 elements\nGroup     2 (          clust) has  7395 elements\nGroup     3 (          clust) has 37315 elements\nGroup     4 (          clust) has  9350 elements\nGroup     5 (          clust) has  7905 elements\nGroup     6 (          clust) has 11985 elements\nGroup     7 (          clust) has  5610 elements\nGroup     8 (          clust) has  9520 elements\nGroup     9 (          clust) has 12325 elements\nGroup    10 (          clust) has 14110 elements\nGroup    11 (          clust) has  5525 elements\nGroup    12 (          clust) has  7480 elements\nGroup    13 (          clust) has    85 elements\nGroup    14 (          clust) has    85 elements\nGroup    15 (          clust) has    85 elements\nGroup    16 (          clust) has    85 elements\nGroup    17 (          clust) has    85 elements\nGroup    18 (          clust) has    85 elements\nGroup    19 (          clust) has    85 elements\nGroup    20 (          clust) has    85 elements\nGroup    21 (          clust) has    85 elements\nGroup    22 (          clust) has    85 elements\nGroup    23 (          clust) has    85 elements\nGroup    24 (          clust) has    85 elements\nGroup    25 (          clust) has    85 elements\nGroup    26 (          clust) has    85 elements\nGroup    27 (          clust) has    85 elements\nGroup    28 (          clust) has    85 elements\nGroup    29 (          clust) has    85 elements\nGroup    30 (          clust) has    85 elements\nGroup    31 (          clust) has    85 elements\nGroup    32 (          clust) has    85 elements\nGroup    33 (          clust) has    85 elements\nGroup    34 (          clust) has    85 elements\nGroup    35 (          clust) has    85 elements\nGroup    36 (          clust) has    85 elements\nGroup    37 (          clust) has    85 elements\nGroup    38 (          clust) has    85 elements\nGroup    39 (          clust) has    85 elements\nGroup    40 (          clust) has    85 elements\nGroup    41 (          clust) has    85 elements\nGroup    42 (      max_clust) has 37315 elements\nGroup    43 (     not_fibril) has  2465 elements\nSelect a group: Selected 12: 'clust'\n\nGROMACS reminds you: \"For a research worker the unforgotten moments of his life are those rare ones which come after years of plodding work, when the veil over natures secret seems suddenly to lift & when what was dark & chaotic appears in a clear & beautiful light & pattern.\" (Gerty Cori)\n\n                     :-) GROMACS - gmx editconf, 2020.3 (-:\n\n                            GROMACS is written by:\n     Emile Apol      Rossen Apostolov      Paul Bauer     Herman J.C. Berendsen\n    Par Bjelkmar      Christian Blau   Viacheslav Bolnykh     Kevin Boyd    \n Aldert van Buuren   Rudi van Drunen     Anton Feenstra       Alan Gray     \n  Gerrit Groenhof     Anca Hamuraru    Vincent Hindriksen  M. Eric Irrgang  \n  Aleksei Iupinov   Christoph Junghans     Joe Jordan     Dimitrios Karkoulis\n    Peter Kasson        Jiri Kraus      Carsten Kutzner      Per Larsson    \n  Justin A. Lemkul    Viveca Lindahl    Magnus Lundborg     Erik Marklund   \n    Pascal Merz     Pieter Meulenhoff    Teemu Murtola       Szilard Pall   \n    Sander Pronk      Roland Schulz      Michael Shirts    Alexey Shvetsov  \n   Alfons Sijbers     Peter Tieleman      Jon Vincent      Teemu Virolainen \n Christian Wennberg    Maarten Wolf      Artem Zhmurov   \n                           and the project leaders:\n        Mark Abraham, Berk Hess, Erik Lindahl, and David van der Spoel\n\nCopyright (c) 1991-2000, University of Groningen, The Netherlands.\nCopyright (c) 2001-2019, The GROMACS development team at\nUppsala University, Stockholm University and\nthe Royal Institute of Technology, Sweden.\ncheck out http://www.gromacs.org for more information.\n\nGROMACS is free software; you can redistribute it and/or modify it\nunder the terms of the GNU Lesser General Public License\nas published by the Free Software Foundation; either version 2.1\nof the License, or (at your option) any later version.\n\nGROMACS:      gmx editconf, version 2020.3\nExecutable:   /usr/local/gromacs/bin/gmx\nData prefix:  /usr/local/gromacs\nWorking dir:  /home/odinodeon/MAGROS/analysis_bash_jupyter\nCommand line:\n  gmx editconf -f prod_2000-1mM.tpr -n pdb.ndx -label Z -o clust43.pdb\n\nNote that major changes are planned in future for editconf, to improve usability and utility.\nReading file prod_2000-1mM.tpr, VERSION 2019.5 (single precision)\nReading file prod_2000-1mM.tpr, VERSION 2019.5 (single precision)\nRead 170000 atoms\nVolume: 3.375e+06 nm^3, corresponds to roughly 1518750000 electrons\nVelocities found\n\nSelect a group for output:\nGroup     0 (          clust) has 29665 elements\nGroup     1 (          clust) has  9350 elements\nGroup     2 (          clust) has  7395 elements\nGroup     3 (          clust) has 37315 elements\nGroup     4 (          clust) has  9350 elements\nGroup     5 (          clust) has  7905 elements\nGroup     6 (          clust) has 11985 elements\nGroup     7 (          clust) has  5610 elements\nGroup     8 (          clust) has  9520 elements\nGroup     9 (          clust) has 12325 elements\nGroup    10 (          clust) has 14110 elements\nGroup    11 (          clust) has  5525 elements\nGroup    12 (          clust) has  7480 elements\nGroup    13 (          clust) has    85 elements\nGroup    14 (          clust) has    85 elements\nGroup    15 (          clust) has    85 elements\nGroup    16 (          clust) has    85 elements\nGroup    17 (          clust) has    85 elements\nGroup    18 (          clust) has    85 elements\nGroup    19 (          clust) has    85 elements\nGroup    20 (          clust) has    85 elements\nGroup    21 (          clust) has    85 elements\nGroup    22 (          clust) has    85 elements\nGroup    23 (          clust) has    85 elements\nGroup    24 (          clust) has    85 elements\nGroup    25 (          clust) has    85 elements\nGroup    26 (          clust) has    85 elements\nGroup    27 (          clust) has    85 elements\nGroup    28 (          clust) has    85 elements\nGroup    29 (          clust) has    85 elements\nGroup    30 (          clust) has    85 elements\nGroup    31 (          clust) has    85 elements\nGroup    32 (          clust) has    85 elements\nGroup    33 (          clust) has    85 elements\nGroup    34 (          clust) has    85 elements\nGroup    35 (          clust) has    85 elements\nGroup    36 (          clust) has    85 elements\nGroup    37 (          clust) has    85 elements\nGroup    38 (          clust) has    85 elements\nGroup    39 (          clust) has    85 elements\nGroup    40 (          clust) has    85 elements\nGroup    41 (          clust) has    85 elements\nGroup    42 (      max_clust) has 37315 elements\nGroup    43 (     not_fibril) has  2465 elements\nSelect a group: Selected 43: 'not_fibril'\n\nGROMACS reminds you: \"She Needs Cash to Buy Aspirine For Her Pain\" (LIVE)\n\n                     :-) GROMACS - gmx editconf, 2020.3 (-:\n\n                            GROMACS is written by:\n     Emile Apol      Rossen Apostolov      Paul Bauer     Herman J.C. Berendsen\n    Par Bjelkmar      Christian Blau   Viacheslav Bolnykh     Kevin Boyd    \n Aldert van Buuren   Rudi van Drunen     Anton Feenstra       Alan Gray     \n  Gerrit Groenhof     Anca Hamuraru    Vincent Hindriksen  M. Eric Irrgang  \n  Aleksei Iupinov   Christoph Junghans     Joe Jordan     Dimitrios Karkoulis\n    Peter Kasson        Jiri Kraus      Carsten Kutzner      Per Larsson    \n  Justin A. Lemkul    Viveca Lindahl    Magnus Lundborg     Erik Marklund   \n    Pascal Merz     Pieter Meulenhoff    Teemu Murtola       Szilard Pall   \n    Sander Pronk      Roland Schulz      Michael Shirts    Alexey Shvetsov  \n   Alfons Sijbers     Peter Tieleman      Jon Vincent      Teemu Virolainen \n Christian Wennberg    Maarten Wolf      Artem Zhmurov   \n                           and the project leaders:\n        Mark Abraham, Berk Hess, Erik Lindahl, and David van der Spoel\n\nCopyright (c) 1991-2000, University of Groningen, The Netherlands.\nCopyright (c) 2001-2019, The GROMACS development team at\nUppsala University, Stockholm University and\nthe Royal Institute of Technology, Sweden.\ncheck out http://www.gromacs.org for more information.\n\nGROMACS is free software; you can redistribute it and/or modify it\nunder the terms of the GNU Lesser General Public License\nas published by the Free Software Foundation; either version 2.1\nof the License, or (at your option) any later version.\n\nGROMACS:      gmx editconf, version 2020.3\nExecutable:   /usr/local/gromacs/bin/gmx\nData prefix:  /usr/local/gromacs\nWorking dir:  /home/odinodeon/MAGROS/analysis_bash_jupyter\nCommand line:\n  gmx editconf -f prod_2000-1mM.tpr -n pdb.ndx -label Z -o clust43.esp\n\nNote that major changes are planned in future for editconf, to improve usability and utility.\nReading file prod_2000-1mM.tpr, VERSION 2019.5 (single precision)\nReading file prod_2000-1mM.tpr, VERSION 2019.5 (single precision)\nRead 170000 atoms\nVolume: 3.375e+06 nm^3, corresponds to roughly 1518750000 electrons\nVelocities found\n\nSelect a group for output:\nGroup     0 (          clust) has 29665 elements\nGroup     1 (          clust) has  9350 elements\nGroup     2 (          clust) has  7395 elements\nGroup     3 (          clust) has 37315 elements\nGroup     4 (          clust) has  9350 elements\nGroup     5 (          clust) has  7905 elements\nGroup     6 (          clust) has 11985 elements\nGroup     7 (          clust) has  5610 elements\nGroup     8 (          clust) has  9520 elements\nGroup     9 (          clust) has 12325 elements\nGroup    10 (          clust) has 14110 elements\nGroup    11 (          clust) has  5525 elements\nGroup    12 (          clust) has  7480 elements\nGroup    13 (          clust) has    85 elements\nGroup    14 (          clust) has    85 elements\nGroup    15 (          clust) has    85 elements\nGroup    16 (          clust) has    85 elements\nGroup    17 (          clust) has    85 elements\nGroup    18 (          clust) has    85 elements\nGroup    19 (          clust) has    85 elements\nGroup    20 (          clust) has    85 elements\nGroup    21 (          clust) has    85 elements\nGroup    22 (          clust) has    85 elements\nGroup    23 (          clust) has    85 elements\nGroup    24 (          clust) has    85 elements\nGroup    25 (          clust) has    85 elements\nGroup    26 (          clust) has    85 elements\nGroup    27 (          clust) has    85 elements\nGroup    28 (          clust) has    85 elements\nGroup    29 (          clust) has    85 elements\nGroup    30 (          clust) has    85 elements\nGroup    31 (          clust) has    85 elements\nGroup    32 (          clust) has    85 elements\nGroup    33 (          clust) has    85 elements\nGroup    34 (          clust) has    85 elements\nGroup    35 (          clust) has    85 elements\nGroup    36 (          clust) has    85 elements\nGroup    37 (          clust) has    85 elements\nGroup    38 (          clust) has    85 elements\nGroup    39 (          clust) has    85 elements\nGroup    40 (          clust) has    85 elements\nGroup    41 (          clust) has    85 elements\nGroup    42 (      max_clust) has 37315 elements\nGroup    43 (     not_fibril) has  2465 elements\nSelect a group: Selected 43: 'not_fibril'\n\nGROMACS reminds you: \"I am rarely happier than when spending an entire day programming my computer to perform automatically a task that it would otherwise take me a good ten seconds to do by hand.\" (Douglas Adams)\n\n"
    }
   ],
   "source": [
    "### Qui c'e da fare il print dello script\n",
    "echo1 = r\"echo -e ${array[i]}\\n | gmx_mpi editconf -f prod_2000-1mM.tpr -n full-index.ndx -label ${array2[i]} -o clust${array[i]}.pdb\"\n",
    "\n",
    "\n",
    "with open('script-pdb.sh', 'w') as f:\n",
    "    print('#!/bin/bash', file = f)\n",
    "    print('# for-loopcmd.sh', '\\n', file = f)\n",
    "    print('# the two arrays are based on the maxclust.ndx -> check which clust is the one you want', file = f)\n",
    "    print('array=(\"0\" \"1\" \"2\" \"3\" \"4\" \"5\" \"6\" \"7\" \"8\" \"9\" \"10\" \"11\" \"12\" \"43\")', file = f)\n",
    "    print('array2=(\"A\" \"B\" \"C\" \"D\" \"E\" \"F\" \"G\" \"H\" \"I\" \"J\" \"K\" \"L\" \"M\" \"Z\")', '\\n', '\\n', file = f)\n",
    "    print('for ((i=0;i<${#array[@]}; ++i)); do', file = f)\n",
    "    print('\\t', r\"echo -e ${array[i]} \\n | gmx_mpi editconf -f prod_2000-1mM.tpr -n pdb.ndx -label ${array2[i]} -o clust${array[i]}.pdb\", file = f)\n",
    "    print('\\t', r\"echo -e ${array[i]} \\n | gmx_mpi editconf -f prod_2000-1mM.tpr -n pdb.ndx -label ${array2[i]} -o clust${array[i]}.esp\", file = f)\n",
    "    print('\\t', r\"sed 's/{//' clust${array[i]}.esp | awk '{print $1+1}' > numero${array[i]}\", file = f)\n",
    "    print('\\t', r\"sed -i '1s/^/1\\n/' numero${array[i]}\", file = f)\n",
    "    print('\\t', r\"paste numero${array[i]} clust${array[i]}.pdb > chain${array[i]}\", file = f)\n",
    "    print('\\t', r\"cat chain* | grep ATOM | sort -k1 -g > temp_label-chain.pdb\", file = f)\n",
    "    print(r\"done\", '\\n', file = f)\n",
    "    print(r\"rm numero*\", file = f)\n",
    "    print(r\"rm chain*\", file = f)\n",
    "    print(r\"rm clust*\", file = f)\n",
    "    print(r\"cut -f 1 --complement temp_label-chain.pdb > label-chain.pdb\", file = f)\n",
    "    print(r\"mv label-chain.pdb chain-label.pdb\", '\\n', file = f)\n",
    "    print(r\"rm temp_label-chain.pdb\", file = f)\n",
    "    print(r\"exit\", file = f)\n",
    "  \n",
    "!{'chmod +x script-pdb.sh'}\n",
    "!{'./script-pdb.sh'}"
   ]
  },
  {
   "cell_type": "code",
   "execution_count": null,
   "metadata": {
    "tags": []
   },
   "outputs": [],
   "source": [
    "import pandas as pd\n",
    "import numpy as np\n",
    "import matplotlib\n",
    "import matplotlib.pyplot as plt\n",
    "import matplotlib.ticker\n",
    "from matplotlib.colors import ListedColormap\n",
    "\n",
    "%pwd\n",
    "#%cd /media/data/emanuele/TTR/smog-to-gromos/old/fix-concentration_gradient/make_fibrillone-2000-296K-1mM-bis/analysis\n",
    "\n",
    "### Data import\n",
    "\n",
    "matrix = pd.read_csv('histo-time.dat', sep = '\\\\s+', header = None)\n",
    "\n",
    "# Changing the index so now it is in picoseconds\n",
    "#matrix[0] = matrix[0].apply(lambda x:x*10)\n",
    "#matrix = matrix.set_index([0])\n",
    "\n",
    "### Data handling\n",
    "#### Defining the Maxclust and the number of frames\n",
    "clustsize = list(range(0, len(matrix.columns), 1))\n",
    "frames = list(range(0, len(matrix.index), 1))\n",
    "fibril = list(range(2, len(matrix.columns)))\n",
    "#not_fibril = list(range(3, 10, 1))\n",
    "\n",
    "\n",
    "#### Multiply the columns for its clustsize\n",
    "size = pd.Series(clustsize)\n",
    "matrix = matrix.mul(size, axis = 1)\n",
    "\n",
    "#### Replace 0 with n.an\n",
    "matrix[matrix == 0] = np.nan\n",
    "\n",
    "#### I don't care about monomers\n",
    "matrix = matrix.drop([0, 1], axis = 1)\n",
    "\n",
    "### Make the histogram to compare with lab results\n",
    "# Set the not-fibril to 0 and have a sort of lag time \n",
    "histo_zero = matrix.copy()\n",
    "histo_zero[[2, 3, 4, 5, 6, 7, 8, 9, 10]] = 0\n",
    "histo_zero = histo_zero[fibril].sum(axis=1)\n",
    "\n",
    "# This one is the complete one\n",
    "histogram = matrix[fibril].sum(axis=1)\n",
    "\n",
    "# Matrix transpose\n",
    "matrix = matrix.T\n",
    "\n",
    "\n",
    "\n",
    "\n",
    "#print(matrix)\n",
    "#print(maxclust) # seems ok\n",
    "#print(frames) # seems ok"
   ]
  },
  {
   "cell_type": "code",
   "execution_count": null,
   "metadata": {
    "tags": []
   },
   "outputs": [],
   "source": [
    "#prova = ListedColormap(['darkorange', 'gold', 'lawngreen', 'lightseagreen'])\n",
    "plt.pcolormesh(matrix, cmap = 'winter', rasterized = True)\n",
    "plt.ylabel('Clustsize x MW')\n",
    "plt.xlabel('Time (ns)')\n",
    "#splt.xlim(0, 1200)\n",
    "plt.suptitle('Aggregation Profile')\n",
    "plt.show()\n"
   ]
  },
  {
   "cell_type": "code",
   "execution_count": null,
   "metadata": {},
   "outputs": [],
   "source": [
    "plt.bar(frames, histogram, color = 'blue')\n",
    "plt.ylabel('Sum of clustsize x MW')\n",
    "plt.xlabel('Time (ns)')\n",
    "#plt.xlim(0, 1200)\n",
    "plt.show()"
   ]
  },
  {
   "cell_type": "code",
   "execution_count": null,
   "metadata": {},
   "outputs": [],
   "source": [
    "plt.bar(frames, histo_zero, color = 'blue')\n",
    "plt.ylabel('Sum of clustsize x MW')\n",
    "plt.xlabel('Time (ns)')\n",
    "#plt.xlim(0, 1200)\n",
    "plt.show()"
   ]
  },
  {
   "cell_type": "code",
   "execution_count": null,
   "metadata": {},
   "outputs": [],
   "source": [
    "#import gmxapi as gmx\n",
    "\n",
    "#clust = gmx.commandline_operation('gmx_mpi',\n",
    " #                                   arguments=['clustsize', '-mol', '-nice', '0', '-cut', '0.4', '-dt', '100000'],\n",
    "  #                                  input_files={'-f': 'prod_2000-1mM.xtc', '-s': 'prod_2000-1mM.tpr'})"
   ]
  }
 ]
}