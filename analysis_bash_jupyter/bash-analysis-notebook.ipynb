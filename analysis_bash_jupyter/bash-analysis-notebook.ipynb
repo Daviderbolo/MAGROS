{
 "metadata": {
  "language_info": {
   "codemirror_mode": {
    "name": "ipython",
    "version": 3
   },
   "file_extension": ".py",
   "mimetype": "text/x-python",
   "name": "python",
   "nbconvert_exporter": "python",
   "pygments_lexer": "ipython3",
   "version": "3.7.6-final"
  },
  "orig_nbformat": 2,
  "kernelspec": {
   "name": "python3",
   "display_name": "Python 3"
  }
 },
 "nbformat": 4,
 "nbformat_minor": 2,
 "cells": [
  {
   "cell_type": "markdown",
   "metadata": {},
   "source": [
    "# Analysis Jupyter Notebook\n",
    "### Controlla il path della cartella"
   ]
  },
  {
   "cell_type": "markdown",
   "metadata": {},
   "source": [
    "### Data Handling"
   ]
  },
  {
   "cell_type": "code",
   "execution_count": 1,
   "metadata": {
    "tags": []
   },
   "outputs": [
    {
     "output_type": "stream",
     "name": "stdout",
     "text": ":-) GROMACS - gmx clustsize, 2019.5 (-:\n\n                            GROMACS is written by:\n     Emile Apol      Rossen Apostolov      Paul Bauer     Herman J.C. Berendsen\n    Par Bjelkmar      Christian Blau   Viacheslav Bolnykh     Kevin Boyd    \n Aldert van Buuren   Rudi van Drunen     Anton Feenstra       Alan Gray     \n  Gerrit Groenhof     Anca Hamuraru    Vincent Hindriksen  M. Eric Irrgang  \n  Aleksei Iupinov   Christoph Junghans     Joe Jordan     Dimitrios Karkoulis\n    Peter Kasson        Jiri Kraus      Carsten Kutzner      Per Larsson    \n  Justin A. Lemkul    Viveca Lindahl    Magnus Lundborg     Erik Marklund   \n    Pascal Merz     Pieter Meulenhoff    Teemu Murtola       Szilard Pall   \n    Sander Pronk      Roland Schulz      Michael Shirts    Alexey Shvetsov  \n   Alfons Sijbers     Peter Tieleman      Jon Vincent      Teemu Virolainen \n Christian Wennberg    Maarten Wolf   \n                           and the project leaders:\n        Mark Abraham, Berk Hess, Erik Lindahl, and David van der Spoel\n\nCopyright (c) 1991-2000, University of Groningen, The Netherlands.\nCopyright (c) 2001-2018, The GROMACS development team at\nUppsala University, Stockholm University and\nthe Royal Institute of Technology, Sweden.\ncheck out http://www.gromacs.org for more information.\n\nGROMACS is free software; you can redistribute it and/or modify it\nunder the terms of the GNU Lesser General Public License\nas published by the Free Software Foundation; either version 2.1\nof the License, or (at your option) any later version.\n\nGROMACS:      gmx clustsize, version 2019.5\nExecutable:   /opt/gromacs-2019.5/bin/gmx_mpi\nData prefix:  /opt/gromacs-2019.5\nWorking dir:  /media/data/emanuele/B2m/MAGROS_FF/MAGROS/analysis_bash_jupyter\nCommand line:\n  gmx_mpi clustsize -f prod_2000-1mM.xtc -dt 100000 -s prod_2000-1mM.tpr -mol -hct -nice 0 -cut 0.4\n\n\nBack Off! I just backed up nclust.xvg to ./#nclust.xvg.1#\n\nBack Off! I just backed up avclust.xvg to ./#avclust.xvg.1#\n\nBack Off! I just backed up maxclust.xvg to ./#maxclust.xvg.1#\n\nBack Off! I just backed up temp.xvg to ./#temp.xvg.1#\nReading frame       0 time    0.000   Reading file prod_2000-1mM.tpr, VERSION 2019.6 (single precision)\nReading file prod_2000-1mM.tpr, VERSION 2019.6 (single precision)\n^C\n"
    }
   ],
   "source": [
    "cmd = 'gmx_mpi clustsize -f prod_2000-1mM.xtc -dt 100000 -s prod_2000-1mM.tpr -mol -hct -nice 0 -cut 0.4'\n",
    "!{cmd}"
   ]
  },
  {
   "cell_type": "code",
   "execution_count": null,
   "metadata": {
    "tags": []
   },
   "outputs": [],
   "source": [
    "import pandas as pd\n",
    "import numpy as np\n",
    "import matplotlib\n",
    "import matplotlib.pyplot as plt\n",
    "import matplotlib.ticker\n",
    "from matplotlib.colors import ListedColormap\n",
    "\n",
    "%pwd\n",
    "#%cd /media/data/emanuele/TTR/smog-to-gromos/old/fix-concentration_gradient/make_fibrillone-2000-296K-1mM-bis/analysis\n",
    "\n",
    "### Data import\n",
    "\n",
    "matrix = pd.read_csv('histo-time.dat', sep = '\\\\s+', header = None)\n",
    "\n",
    "# Changing the index so now it is in picoseconds\n",
    "#matrix[0] = matrix[0].apply(lambda x:x*10)\n",
    "#matrix = matrix.set_index([0])\n",
    "\n",
    "### Data handling\n",
    "#### Defining the Maxclust and the number of frames\n",
    "clustsize = list(range(0, len(matrix.columns), 1))\n",
    "frames = list(range(0, len(matrix.index), 1))\n",
    "fibril = list(range(2, len(matrix.columns)))\n",
    "#not_fibril = list(range(3, 10, 1))\n",
    "\n",
    "\n",
    "#### Multiply the columns for its clustsize\n",
    "size = pd.Series(clustsize)\n",
    "matrix = matrix.mul(size, axis = 1)\n",
    "\n",
    "#### Replace 0 with n.an\n",
    "matrix[matrix == 0] = np.nan\n",
    "\n",
    "#### I don't care about monomers\n",
    "matrix = matrix.drop([0, 1], axis = 1)\n",
    "\n",
    "### Make the histogram to compare with lab results\n",
    "# Set the not-fibril to 0 and have a sort of lag time \n",
    "histo_zero = matrix.copy()\n",
    "histo_zero[[2, 3, 4, 5, 6, 7, 8, 9, 10]] = 0\n",
    "histo_zero = histo_zero[fibril].sum(axis=1)\n",
    "\n",
    "# This one is the complete one\n",
    "histogram = matrix[fibril].sum(axis=1)\n",
    "\n",
    "# Matrix transpose\n",
    "matrix = matrix.T\n",
    "\n",
    "\n",
    "\n",
    "\n",
    "#print(matrix)\n",
    "#print(maxclust) # seems ok\n",
    "#print(frames) # seems ok"
   ]
  },
  {
   "cell_type": "code",
   "execution_count": null,
   "metadata": {
    "tags": []
   },
   "outputs": [],
   "source": [
    "#prova = ListedColormap(['darkorange', 'gold', 'lawngreen', 'lightseagreen'])\n",
    "plt.pcolormesh(matrix, cmap = 'winter', rasterized = True)\n",
    "plt.ylabel('Clustsize x MW')\n",
    "plt.xlabel('Time (ns)')\n",
    "#splt.xlim(0, 1200)\n",
    "plt.suptitle('Aggregation Profile')\n",
    "plt.show()\n"
   ]
  },
  {
   "cell_type": "code",
   "execution_count": null,
   "metadata": {},
   "outputs": [],
   "source": [
    "plt.bar(frames, histogram, color = 'blue')\n",
    "plt.ylabel('Sum of clustsize x MW')\n",
    "plt.xlabel('Time (ns)')\n",
    "#plt.xlim(0, 1200)\n",
    "plt.show()"
   ]
  },
  {
   "cell_type": "code",
   "execution_count": null,
   "metadata": {},
   "outputs": [],
   "source": [
    "plt.bar(frames, histo_zero, color = 'blue')\n",
    "plt.ylabel('Sum of clustsize x MW')\n",
    "plt.xlabel('Time (ns)')\n",
    "#plt.xlim(0, 1200)\n",
    "plt.show()"
   ]
  }
 ]
}